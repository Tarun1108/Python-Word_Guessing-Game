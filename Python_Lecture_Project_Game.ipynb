{
 "cells": [
  {
   "cell_type": "code",
   "execution_count": null,
   "metadata": {},
   "outputs": [],
   "source": [
    "import random\n",
    "name=input(\"enter your name: \")\n",
    "print(f\"hello {name}!, welcome to gusseing game\")\n",
    "words= [\"Shaktimaan\",\"Ironman\",\"Airoplane\",\"Laptop\",\"Apple\",\"house\",\"Python\",\"earth\",\"game\",\"hollywood\"]\n",
    "index= random.randint(0, len(words))\n",
    "word=words[index]\n",
    "indexes=random.sample(range(0, len(word)),3)\n",
    "guesses=\"\"\n",
    "\n",
    "for i in indexes:\n",
    "    guesses += word[i]\n",
    "    \n",
    "chances=10\n",
    "\n",
    "while chances>0:\n",
    "    won= True\n",
    "    for ch in word:\n",
    "        if ch in guesses:\n",
    "            print(ch,end=\" \")\n",
    "        else:\n",
    "            print(\"_\",end=\" \")\n",
    "            won= False\n",
    "            \n",
    "    if won:\n",
    "        print(\"You won!\")\n",
    "        print(f\"Your score is {chances * 10}\")\n",
    "        break\n",
    "            \n",
    "    guess=input(\"\\nGuesses the character \")\n",
    "    guesses +=guess\n",
    "    \n",
    "    if guess not in word:\n",
    "        chances -=1\n",
    "        print(\"Wrong Answer!\")\n",
    "        print(f\"you have {chances} are left!\")\n",
    "        \n",
    "        if chances ==0:\n",
    "            print(\"You lose!\")\n",
    "            break\n",
    "        \n",
    "        "
   ]
  },
  {
   "cell_type": "code",
   "execution_count": null,
   "metadata": {},
   "outputs": [],
   "source": [
    "\n",
    " \n"
   ]
  }
 ],
 "metadata": {
  "kernelspec": {
   "display_name": "Python 3",
   "language": "python",
   "name": "python3"
  },
  "language_info": {
   "codemirror_mode": {
    "name": "ipython",
    "version": 3
   },
   "file_extension": ".py",
   "mimetype": "text/x-python",
   "name": "python",
   "nbconvert_exporter": "python",
   "pygments_lexer": "ipython3",
   "version": "3.7.4"
  }
 },
 "nbformat": 4,
 "nbformat_minor": 2
}
